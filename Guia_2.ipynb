{
  "nbformat": 4,
  "nbformat_minor": 0,
  "metadata": {
    "colab": {
      "provenance": [],
      "include_colab_link": true
    },
    "kernelspec": {
      "name": "python3",
      "display_name": "Python 3"
    },
    "language_info": {
      "name": "python"
    }
  },
  "cells": [
    {
      "cell_type": "markdown",
      "metadata": {
        "id": "view-in-github",
        "colab_type": "text"
      },
      "source": [
        "<a href=\"https://colab.research.google.com/github/ivandquevedoc/Guia2ProgCienciaDatos/blob/main/Guia_2.ipynb\" target=\"_parent\"><img src=\"https://colab.research.google.com/assets/colab-badge.svg\" alt=\"Open In Colab\"/></a>"
      ]
    },
    {
      "cell_type": "markdown",
      "source": [
        "# **Programación para la Ciencia de Datos**\n",
        "# **Grupo 14**\n",
        "# Giovanny Castillo Castillo   gcastil58420\n",
        "# Ivan Dario Quevedo Contreras iqueved26072\n",
        "\n",
        "# **Guía 2**\n",
        "\n",
        "Objetivo: aplicar los conceptos de Pandas en la manipulación y análisis de datos estructurados. Se trabajará con Series y DataFrames, aplicando técnicas de acceso, selección, filtrado y agregación de datos.\n",
        "\n",
        "### **Caso de Negocio: Análisis de Deserción de Clientes en una Empresa de Telecomunicaciones**\n",
        "\n",
        "**Contexto**\n",
        "\n",
        "En la industria de las telecomunicaciones, la retención de clientes es un factor crítico para la sostenibilidad del negocio. La competencia es feroz y adquirir nuevos clientes suele ser más costoso que mantener a los actuales. En este análisis, exploraremos un conjunto de datos que contiene información detallada sobre clientes que han abandonado el servicio (churn) y aquellos que permanecen activos.\n",
        "\n",
        "Nuestro objetivo es identificar los factores clave que influyen en la deserción, comprender patrones de comportamiento y generar estrategias efectivas para reducir la tasa de abandono.\n",
        "\n",
        "La empresa ha experimentado un aumento en la tasa de deserción de clientes, lo que ha provocado:\n",
        "- Pérdida de ingresos recurrentes.\n",
        "- Incremento en los costos de adquisición de nuevos clientes.\n",
        "- Menor estabilidad en la base de clientes a largo plazo.\n",
        "\n",
        "Para abordar esta problemática, es crucial identificar las razones detrás de la deserción y desarrollar estrategias para mejorar la retención de clientes.\n",
        "\n"
      ],
      "metadata": {
        "id": "sVxeQki8vRXz"
      }
    },
    {
      "cell_type": "markdown",
      "source": [
        "**Entrega del Trabajo**\n",
        "\n",
        "Los estudiantes deben trabajar en grupos de entre 2 y 4 personas. Cada grupo deberá subir su trabajo a un repositorio de GitHub, asegurándose de que el código y los archivos necesarios estén bien organizados y documentados. Posteriormente, deberán enviar el enlace del repositorio en la plataforma Canvas para su evaluación.\n",
        "\n",
        "Instrucciones para la entrega:\n",
        "\n",
        "Crear un repositorio en GitHub con un nombre descriptivo para el proyecto.\n",
        "\n",
        "Subir el código en Jupyter Notebook (.ipynb) o en formato Python (.py).\n",
        "\n",
        "Incluir un archivo README.md con una breve descripción del trabajo y las instrucciones de ejecución.\n",
        "\n",
        "Compartir el enlace del repositorio en Canvas dentro del plazo establecido.\n",
        "\n"
      ],
      "metadata": {
        "id": "TBsud25XSR0w"
      }
    },
    {
      "cell_type": "markdown",
      "source": [
        "**Descripción de las variables del dataset telecom_churn**\n",
        "\n",
        "El dataset telecom_churn contiene información detallada sobre clientes de una empresa de telecomunicaciones, incluyendo datos generales, planes contratados, uso del servicio telefónico y llamadas al servicio al cliente. Su propósito principal es analizar patrones de deserción de clientes, identificados a través de la variable churn, que indica si un cliente ha abandonado la empresa (1) o sigue siendo cliente (0).\n",
        "\n",
        "Dentro del dataset, encontramos información general como el estado (state) donde reside el cliente, el código de área (area code), y el número de teléfono (phone number), aunque esta última variable no aporta información útil para el análisis, ya que es un identificador único.\n",
        "\n",
        "Además, el dataset registra el tiempo que un cliente ha estado en la empresa a través de la variable account length, lo que puede ayudar a analizar si la duración del contrato influye en la deserción. También se incluyen detalles sobre los planes contratados, como si el cliente tiene un plan internacional (international plan), que le permite realizar llamadas internacionales, o un buzón de voz (voice mail plan), que le permite recibir mensajes de voz.\n",
        "\n",
        "En cuanto al uso del servicio, se registran datos detallados sobre el tiempo en llamadas y los costos asociados. Se divide en tres períodos del día: diurno (total day minutes, total day calls, total day charge), vespertino (total eve minutes, total eve calls, total eve charge) y nocturno (total night minutes, total night calls, total night charge), lo que permite evaluar si hay patrones de consumo que influyen en la deserción. También se incluye información sobre el uso del servicio internacional, con variables como total intl minutes (minutos en llamadas internacionales), total intl calls (cantidad de llamadas internacionales) y total intl charge (costos por llamadas internacionales).\n",
        "\n",
        "Otro aspecto clave del dataset es el número de llamadas al servicio al cliente (customer service calls), ya que una mayor cantidad de llamadas puede indicar insatisfacción y estar relacionada con la decisión del cliente de abandonar la empresa.\n",
        "\n",
        "Finalmente, la variable más importante del análisis es churn, que indica si un cliente ha desertado de la empresa. A partir de esta variable, podemos analizar qué factores influyen en la deserción y encontrar patrones en los clientes que tienen mayor probabilidad de abandonar el servicio.\n"
      ],
      "metadata": {
        "id": "R1eyqBGSScta"
      }
    },
    {
      "cell_type": "markdown",
      "source": [
        "**Exploración y Limpieza de Datos**\n",
        "\n",
        "Cargar y explorar el dataset\n",
        "\n",
        "Importa Pandas y carga el dataset telecom_churn.csv en un DataFrame.\n",
        "\n",
        "Muestra las primeras 5 filas del DataFrame.\n",
        "\n",
        "Verifica cuántas filas y columnas tiene el dataset.\n",
        "\n",
        "Muestra información general del dataset, incluyendo los tipos de datos.\n",
        "\n",
        "Identifica si hay valores nulos en alguna columna."
      ],
      "metadata": {
        "id": "-gqRGJ8yFs5Y"
      }
    },
    {
      "cell_type": "code",
      "execution_count": null,
      "metadata": {
        "id": "wuoyvrE0vQ09",
        "colab": {
          "base_uri": "https://localhost:8080/"
        },
        "outputId": "a7149751-6a82-4851-eb6c-849a80164827"
      },
      "outputs": [
        {
          "output_type": "stream",
          "name": "stdout",
          "text": [
            "Por favor ingrese nombre del dataSet (csv)\n",
            "Para \"Telecom Churn\", (for default press enter telecom_churn.csv)->> \n",
            "Se buscará por defecto telecom_churn.csv\n",
            "El dataSet indicado telecom_churn.csv, fue localizado 😍😍\n"
          ]
        }
      ],
      "source": [
        "# Solución propuesta\n",
        "import os.path as path\n",
        "import pandas as pd\n",
        "import numpy as np\n",
        "\n",
        "# Nombre por defecto del file csv del dataset a trabajar\n",
        "DEFAULT_DATASET_FILENAME = \"telecom_churn.csv\"\n",
        "\n",
        "# Variables que representan a los emojis\n",
        "EMOJI_PROHIBITED = \"\\U0001F6AB\"\n",
        "EMOJI_SMAILING_HEART_EYES = \"\\U0001F60D\"\n",
        "EMOJI_CRYING = \"\\U0001F62D\"\n",
        "EMOJI_DOCUMENT = \"\\U0001F4C3\"\n",
        "EMOJI_LOCATION = \"\\U0001F4CD\"\n",
        "EMOJI_SAD = \"\\U0001F613\"\n",
        "EMOJI_GOODBYE = \"\\U0001FAC2\"\n",
        "\n",
        "# Funcion de cargue de dataFrame\n",
        "def getDataFrame(fileName):\n",
        "  return pd.read_csv(fileName, sep=',', index_col=False, dtype='unicode', low_memory=False)\n",
        "\n",
        "# Función que localiza el data set en el sistema de archivos indicado por el usuario\n",
        "def localizedDataSet():\n",
        "\n",
        "  # Solicitud del nombre del archivo csv dataset\n",
        "  print(f\"Por favor ingrese nombre del dataSet (csv)\")\n",
        "  dataSetFileName = input(f\"Para \\\"Telecom Churn\\\", (for default press enter {DEFAULT_DATASET_FILENAME})->> \").strip()\n",
        "\n",
        "  # Validación de ingreso del nombre del archivo\n",
        "  if len(dataSetFileName) == 0:\n",
        "    dataSetFileName = DEFAULT_DATASET_FILENAME\n",
        "    print(f\"Se buscará por defecto {dataSetFileName}\")\n",
        "  else:\n",
        "    print(f\"Se buscará el dataSet {dataSetFileName}\")\n",
        "\n",
        "  # Validación de la localización del archivo en el sistema de archivos\n",
        "  existe = True\n",
        "  if path.isfile(dataSetFileName):\n",
        "    print(f\"El dataSet indicado {dataSetFileName}, fue localizado {EMOJI_SMAILING_HEART_EYES}{EMOJI_SMAILING_HEART_EYES}\")\n",
        "  else:\n",
        "    existe = False\n",
        "    print(f\"El dataSet indicado {dataSetFileName}, NO fue localizado {EMOJI_CRYING}!!!\")\n",
        "\n",
        "  # Mensaje en caso de que no tenga un nombre o inlocalizable\n",
        "  if not existe:\n",
        "    print(f\"Por favor verifique nombre y/o ubicación del dataSet {EMOJI_DOCUMENT}{EMOJI_LOCATION}\")\n",
        "    print(f\"Por ahora NO es posible continuar {EMOJI_SAD} bye {EMOJI_GOODBYE}\")\n",
        "\n",
        "  return existe, dataSetFileName # Retorna si existe el data set en la ruta indicada\n",
        "\n",
        "# Cargando el dataSet si existe\n",
        "dataFrame = None\n",
        "data_set_located, data_set_file_name = localizedDataSet()\n",
        "if data_set_located:\n",
        "  dataFrame = getDataFrame(data_set_file_name)\n",
        "else:\n",
        "  # Si no existe vuelve a preguntar por la ubicación del dataset\n",
        "  while not data_set_located:\n",
        "    data_set_located = localizedDataSet()"
      ]
    },
    {
      "cell_type": "code",
      "source": [
        "# Muestra las primeras 5 filas del DataFrame.\n",
        "if dataFrame is not None:\n",
        "  print(\"Muestra las primeras 5 filas del DataFrame\")\n",
        "  display(dataFrame.head())"
      ],
      "metadata": {
        "colab": {
          "base_uri": "https://localhost:8080/",
          "height": 309
        },
        "id": "0n6lVoVte_CG",
        "outputId": "aa5b0edd-bd9a-4503-f3cb-f456682a65c4"
      },
      "execution_count": null,
      "outputs": [
        {
          "output_type": "stream",
          "name": "stdout",
          "text": [
            "Muestra las primeras 5 filas del DataFrame\n"
          ]
        },
        {
          "output_type": "display_data",
          "data": {
            "text/plain": [
              "  state account length area code phone number international plan  \\\n",
              "0    KS            128       415     382-4657                 no   \n",
              "1    OH            107       415     371-7191                 no   \n",
              "2    NJ            137       415     358-1921                 no   \n",
              "3    OH             84       408     375-9999                yes   \n",
              "4    OK             75       415     330-6626                yes   \n",
              "\n",
              "  voice mail plan number vmail messages total day minutes total day calls  \\\n",
              "0             yes                    25             265.1             110   \n",
              "1             yes                    26             161.6             123   \n",
              "2              no                     0             243.4             114   \n",
              "3              no                     0             299.4              71   \n",
              "4              no                     0             166.7             113   \n",
              "\n",
              "  total day charge  ... total eve calls total eve charge total night minutes  \\\n",
              "0            45.07  ...              99            16.78               244.7   \n",
              "1            27.47  ...             103            16.62               254.4   \n",
              "2            41.38  ...             110             10.3               162.6   \n",
              "3             50.9  ...              88             5.26               196.9   \n",
              "4            28.34  ...             122            12.61               186.9   \n",
              "\n",
              "  total night calls total night charge total intl minutes total intl calls  \\\n",
              "0                91              11.01                 10                3   \n",
              "1               103              11.45               13.7                3   \n",
              "2               104               7.32               12.2                5   \n",
              "3                89               8.86                6.6                7   \n",
              "4               121               8.41               10.1                3   \n",
              "\n",
              "  total intl charge customer service calls  churn  \n",
              "0               2.7                      1  FALSE  \n",
              "1               3.7                      1  FALSE  \n",
              "2              3.29                      0  FALSE  \n",
              "3              1.78                      2  FALSE  \n",
              "4              2.73                      3  FALSE  \n",
              "\n",
              "[5 rows x 21 columns]"
            ],
            "text/html": [
              "\n",
              "  <div id=\"df-aa3926a2-ee29-4420-a19c-4bf7343efc94\" class=\"colab-df-container\">\n",
              "    <div>\n",
              "<style scoped>\n",
              "    .dataframe tbody tr th:only-of-type {\n",
              "        vertical-align: middle;\n",
              "    }\n",
              "\n",
              "    .dataframe tbody tr th {\n",
              "        vertical-align: top;\n",
              "    }\n",
              "\n",
              "    .dataframe thead th {\n",
              "        text-align: right;\n",
              "    }\n",
              "</style>\n",
              "<table border=\"1\" class=\"dataframe\">\n",
              "  <thead>\n",
              "    <tr style=\"text-align: right;\">\n",
              "      <th></th>\n",
              "      <th>state</th>\n",
              "      <th>account length</th>\n",
              "      <th>area code</th>\n",
              "      <th>phone number</th>\n",
              "      <th>international plan</th>\n",
              "      <th>voice mail plan</th>\n",
              "      <th>number vmail messages</th>\n",
              "      <th>total day minutes</th>\n",
              "      <th>total day calls</th>\n",
              "      <th>total day charge</th>\n",
              "      <th>...</th>\n",
              "      <th>total eve calls</th>\n",
              "      <th>total eve charge</th>\n",
              "      <th>total night minutes</th>\n",
              "      <th>total night calls</th>\n",
              "      <th>total night charge</th>\n",
              "      <th>total intl minutes</th>\n",
              "      <th>total intl calls</th>\n",
              "      <th>total intl charge</th>\n",
              "      <th>customer service calls</th>\n",
              "      <th>churn</th>\n",
              "    </tr>\n",
              "  </thead>\n",
              "  <tbody>\n",
              "    <tr>\n",
              "      <th>0</th>\n",
              "      <td>KS</td>\n",
              "      <td>128</td>\n",
              "      <td>415</td>\n",
              "      <td>382-4657</td>\n",
              "      <td>no</td>\n",
              "      <td>yes</td>\n",
              "      <td>25</td>\n",
              "      <td>265.1</td>\n",
              "      <td>110</td>\n",
              "      <td>45.07</td>\n",
              "      <td>...</td>\n",
              "      <td>99</td>\n",
              "      <td>16.78</td>\n",
              "      <td>244.7</td>\n",
              "      <td>91</td>\n",
              "      <td>11.01</td>\n",
              "      <td>10</td>\n",
              "      <td>3</td>\n",
              "      <td>2.7</td>\n",
              "      <td>1</td>\n",
              "      <td>FALSE</td>\n",
              "    </tr>\n",
              "    <tr>\n",
              "      <th>1</th>\n",
              "      <td>OH</td>\n",
              "      <td>107</td>\n",
              "      <td>415</td>\n",
              "      <td>371-7191</td>\n",
              "      <td>no</td>\n",
              "      <td>yes</td>\n",
              "      <td>26</td>\n",
              "      <td>161.6</td>\n",
              "      <td>123</td>\n",
              "      <td>27.47</td>\n",
              "      <td>...</td>\n",
              "      <td>103</td>\n",
              "      <td>16.62</td>\n",
              "      <td>254.4</td>\n",
              "      <td>103</td>\n",
              "      <td>11.45</td>\n",
              "      <td>13.7</td>\n",
              "      <td>3</td>\n",
              "      <td>3.7</td>\n",
              "      <td>1</td>\n",
              "      <td>FALSE</td>\n",
              "    </tr>\n",
              "    <tr>\n",
              "      <th>2</th>\n",
              "      <td>NJ</td>\n",
              "      <td>137</td>\n",
              "      <td>415</td>\n",
              "      <td>358-1921</td>\n",
              "      <td>no</td>\n",
              "      <td>no</td>\n",
              "      <td>0</td>\n",
              "      <td>243.4</td>\n",
              "      <td>114</td>\n",
              "      <td>41.38</td>\n",
              "      <td>...</td>\n",
              "      <td>110</td>\n",
              "      <td>10.3</td>\n",
              "      <td>162.6</td>\n",
              "      <td>104</td>\n",
              "      <td>7.32</td>\n",
              "      <td>12.2</td>\n",
              "      <td>5</td>\n",
              "      <td>3.29</td>\n",
              "      <td>0</td>\n",
              "      <td>FALSE</td>\n",
              "    </tr>\n",
              "    <tr>\n",
              "      <th>3</th>\n",
              "      <td>OH</td>\n",
              "      <td>84</td>\n",
              "      <td>408</td>\n",
              "      <td>375-9999</td>\n",
              "      <td>yes</td>\n",
              "      <td>no</td>\n",
              "      <td>0</td>\n",
              "      <td>299.4</td>\n",
              "      <td>71</td>\n",
              "      <td>50.9</td>\n",
              "      <td>...</td>\n",
              "      <td>88</td>\n",
              "      <td>5.26</td>\n",
              "      <td>196.9</td>\n",
              "      <td>89</td>\n",
              "      <td>8.86</td>\n",
              "      <td>6.6</td>\n",
              "      <td>7</td>\n",
              "      <td>1.78</td>\n",
              "      <td>2</td>\n",
              "      <td>FALSE</td>\n",
              "    </tr>\n",
              "    <tr>\n",
              "      <th>4</th>\n",
              "      <td>OK</td>\n",
              "      <td>75</td>\n",
              "      <td>415</td>\n",
              "      <td>330-6626</td>\n",
              "      <td>yes</td>\n",
              "      <td>no</td>\n",
              "      <td>0</td>\n",
              "      <td>166.7</td>\n",
              "      <td>113</td>\n",
              "      <td>28.34</td>\n",
              "      <td>...</td>\n",
              "      <td>122</td>\n",
              "      <td>12.61</td>\n",
              "      <td>186.9</td>\n",
              "      <td>121</td>\n",
              "      <td>8.41</td>\n",
              "      <td>10.1</td>\n",
              "      <td>3</td>\n",
              "      <td>2.73</td>\n",
              "      <td>3</td>\n",
              "      <td>FALSE</td>\n",
              "    </tr>\n",
              "  </tbody>\n",
              "</table>\n",
              "<p>5 rows × 21 columns</p>\n",
              "</div>\n",
              "    <div class=\"colab-df-buttons\">\n",
              "\n",
              "  <div class=\"colab-df-container\">\n",
              "    <button class=\"colab-df-convert\" onclick=\"convertToInteractive('df-aa3926a2-ee29-4420-a19c-4bf7343efc94')\"\n",
              "            title=\"Convert this dataframe to an interactive table.\"\n",
              "            style=\"display:none;\">\n",
              "\n",
              "  <svg xmlns=\"http://www.w3.org/2000/svg\" height=\"24px\" viewBox=\"0 -960 960 960\">\n",
              "    <path d=\"M120-120v-720h720v720H120Zm60-500h600v-160H180v160Zm220 220h160v-160H400v160Zm0 220h160v-160H400v160ZM180-400h160v-160H180v160Zm440 0h160v-160H620v160ZM180-180h160v-160H180v160Zm440 0h160v-160H620v160Z\"/>\n",
              "  </svg>\n",
              "    </button>\n",
              "\n",
              "  <style>\n",
              "    .colab-df-container {\n",
              "      display:flex;\n",
              "      gap: 12px;\n",
              "    }\n",
              "\n",
              "    .colab-df-convert {\n",
              "      background-color: #E8F0FE;\n",
              "      border: none;\n",
              "      border-radius: 50%;\n",
              "      cursor: pointer;\n",
              "      display: none;\n",
              "      fill: #1967D2;\n",
              "      height: 32px;\n",
              "      padding: 0 0 0 0;\n",
              "      width: 32px;\n",
              "    }\n",
              "\n",
              "    .colab-df-convert:hover {\n",
              "      background-color: #E2EBFA;\n",
              "      box-shadow: 0px 1px 2px rgba(60, 64, 67, 0.3), 0px 1px 3px 1px rgba(60, 64, 67, 0.15);\n",
              "      fill: #174EA6;\n",
              "    }\n",
              "\n",
              "    .colab-df-buttons div {\n",
              "      margin-bottom: 4px;\n",
              "    }\n",
              "\n",
              "    [theme=dark] .colab-df-convert {\n",
              "      background-color: #3B4455;\n",
              "      fill: #D2E3FC;\n",
              "    }\n",
              "\n",
              "    [theme=dark] .colab-df-convert:hover {\n",
              "      background-color: #434B5C;\n",
              "      box-shadow: 0px 1px 3px 1px rgba(0, 0, 0, 0.15);\n",
              "      filter: drop-shadow(0px 1px 2px rgba(0, 0, 0, 0.3));\n",
              "      fill: #FFFFFF;\n",
              "    }\n",
              "  </style>\n",
              "\n",
              "    <script>\n",
              "      const buttonEl =\n",
              "        document.querySelector('#df-aa3926a2-ee29-4420-a19c-4bf7343efc94 button.colab-df-convert');\n",
              "      buttonEl.style.display =\n",
              "        google.colab.kernel.accessAllowed ? 'block' : 'none';\n",
              "\n",
              "      async function convertToInteractive(key) {\n",
              "        const element = document.querySelector('#df-aa3926a2-ee29-4420-a19c-4bf7343efc94');\n",
              "        const dataTable =\n",
              "          await google.colab.kernel.invokeFunction('convertToInteractive',\n",
              "                                                    [key], {});\n",
              "        if (!dataTable) return;\n",
              "\n",
              "        const docLinkHtml = 'Like what you see? Visit the ' +\n",
              "          '<a target=\"_blank\" href=https://colab.research.google.com/notebooks/data_table.ipynb>data table notebook</a>'\n",
              "          + ' to learn more about interactive tables.';\n",
              "        element.innerHTML = '';\n",
              "        dataTable['output_type'] = 'display_data';\n",
              "        await google.colab.output.renderOutput(dataTable, element);\n",
              "        const docLink = document.createElement('div');\n",
              "        docLink.innerHTML = docLinkHtml;\n",
              "        element.appendChild(docLink);\n",
              "      }\n",
              "    </script>\n",
              "  </div>\n",
              "\n",
              "\n",
              "<div id=\"df-947912d5-404b-4155-858d-9a7b1e73e827\">\n",
              "  <button class=\"colab-df-quickchart\" onclick=\"quickchart('df-947912d5-404b-4155-858d-9a7b1e73e827')\"\n",
              "            title=\"Suggest charts\"\n",
              "            style=\"display:none;\">\n",
              "\n",
              "<svg xmlns=\"http://www.w3.org/2000/svg\" height=\"24px\"viewBox=\"0 0 24 24\"\n",
              "     width=\"24px\">\n",
              "    <g>\n",
              "        <path d=\"M19 3H5c-1.1 0-2 .9-2 2v14c0 1.1.9 2 2 2h14c1.1 0 2-.9 2-2V5c0-1.1-.9-2-2-2zM9 17H7v-7h2v7zm4 0h-2V7h2v10zm4 0h-2v-4h2v4z\"/>\n",
              "    </g>\n",
              "</svg>\n",
              "  </button>\n",
              "\n",
              "<style>\n",
              "  .colab-df-quickchart {\n",
              "      --bg-color: #E8F0FE;\n",
              "      --fill-color: #1967D2;\n",
              "      --hover-bg-color: #E2EBFA;\n",
              "      --hover-fill-color: #174EA6;\n",
              "      --disabled-fill-color: #AAA;\n",
              "      --disabled-bg-color: #DDD;\n",
              "  }\n",
              "\n",
              "  [theme=dark] .colab-df-quickchart {\n",
              "      --bg-color: #3B4455;\n",
              "      --fill-color: #D2E3FC;\n",
              "      --hover-bg-color: #434B5C;\n",
              "      --hover-fill-color: #FFFFFF;\n",
              "      --disabled-bg-color: #3B4455;\n",
              "      --disabled-fill-color: #666;\n",
              "  }\n",
              "\n",
              "  .colab-df-quickchart {\n",
              "    background-color: var(--bg-color);\n",
              "    border: none;\n",
              "    border-radius: 50%;\n",
              "    cursor: pointer;\n",
              "    display: none;\n",
              "    fill: var(--fill-color);\n",
              "    height: 32px;\n",
              "    padding: 0;\n",
              "    width: 32px;\n",
              "  }\n",
              "\n",
              "  .colab-df-quickchart:hover {\n",
              "    background-color: var(--hover-bg-color);\n",
              "    box-shadow: 0 1px 2px rgba(60, 64, 67, 0.3), 0 1px 3px 1px rgba(60, 64, 67, 0.15);\n",
              "    fill: var(--button-hover-fill-color);\n",
              "  }\n",
              "\n",
              "  .colab-df-quickchart-complete:disabled,\n",
              "  .colab-df-quickchart-complete:disabled:hover {\n",
              "    background-color: var(--disabled-bg-color);\n",
              "    fill: var(--disabled-fill-color);\n",
              "    box-shadow: none;\n",
              "  }\n",
              "\n",
              "  .colab-df-spinner {\n",
              "    border: 2px solid var(--fill-color);\n",
              "    border-color: transparent;\n",
              "    border-bottom-color: var(--fill-color);\n",
              "    animation:\n",
              "      spin 1s steps(1) infinite;\n",
              "  }\n",
              "\n",
              "  @keyframes spin {\n",
              "    0% {\n",
              "      border-color: transparent;\n",
              "      border-bottom-color: var(--fill-color);\n",
              "      border-left-color: var(--fill-color);\n",
              "    }\n",
              "    20% {\n",
              "      border-color: transparent;\n",
              "      border-left-color: var(--fill-color);\n",
              "      border-top-color: var(--fill-color);\n",
              "    }\n",
              "    30% {\n",
              "      border-color: transparent;\n",
              "      border-left-color: var(--fill-color);\n",
              "      border-top-color: var(--fill-color);\n",
              "      border-right-color: var(--fill-color);\n",
              "    }\n",
              "    40% {\n",
              "      border-color: transparent;\n",
              "      border-right-color: var(--fill-color);\n",
              "      border-top-color: var(--fill-color);\n",
              "    }\n",
              "    60% {\n",
              "      border-color: transparent;\n",
              "      border-right-color: var(--fill-color);\n",
              "    }\n",
              "    80% {\n",
              "      border-color: transparent;\n",
              "      border-right-color: var(--fill-color);\n",
              "      border-bottom-color: var(--fill-color);\n",
              "    }\n",
              "    90% {\n",
              "      border-color: transparent;\n",
              "      border-bottom-color: var(--fill-color);\n",
              "    }\n",
              "  }\n",
              "</style>\n",
              "\n",
              "  <script>\n",
              "    async function quickchart(key) {\n",
              "      const quickchartButtonEl =\n",
              "        document.querySelector('#' + key + ' button');\n",
              "      quickchartButtonEl.disabled = true;  // To prevent multiple clicks.\n",
              "      quickchartButtonEl.classList.add('colab-df-spinner');\n",
              "      try {\n",
              "        const charts = await google.colab.kernel.invokeFunction(\n",
              "            'suggestCharts', [key], {});\n",
              "      } catch (error) {\n",
              "        console.error('Error during call to suggestCharts:', error);\n",
              "      }\n",
              "      quickchartButtonEl.classList.remove('colab-df-spinner');\n",
              "      quickchartButtonEl.classList.add('colab-df-quickchart-complete');\n",
              "    }\n",
              "    (() => {\n",
              "      let quickchartButtonEl =\n",
              "        document.querySelector('#df-947912d5-404b-4155-858d-9a7b1e73e827 button');\n",
              "      quickchartButtonEl.style.display =\n",
              "        google.colab.kernel.accessAllowed ? 'block' : 'none';\n",
              "    })();\n",
              "  </script>\n",
              "</div>\n",
              "\n",
              "    </div>\n",
              "  </div>\n"
            ],
            "application/vnd.google.colaboratory.intrinsic+json": {
              "type": "dataframe"
            }
          },
          "metadata": {}
        }
      ]
    },
    {
      "cell_type": "code",
      "source": [
        "# Verifica cuántas filas y columnas tiene el dataset.\n",
        "print(\"Verifica cuántas filas y columnas tiene el dataset\")\n",
        "print(dataFrame.shape)\n",
        "filas, columnas = dataFrame.shape\n",
        "print(f\"El dataset tiene {filas} filas y {columnas} columnas\")"
      ],
      "metadata": {
        "colab": {
          "base_uri": "https://localhost:8080/"
        },
        "id": "uRUboL_8fAD2",
        "outputId": "32362cc7-6bb2-4a3e-a282-51fb0e69152c"
      },
      "execution_count": null,
      "outputs": [
        {
          "output_type": "stream",
          "name": "stdout",
          "text": [
            "Verifica cuántas filas y columnas tiene el dataset\n",
            "(3333, 21)\n",
            "El dataset tiene 3333 filas y 21 columnas\n"
          ]
        }
      ]
    },
    {
      "cell_type": "code",
      "source": [
        "# Se retiran cambios de linea, retornos y tabulaciones que puedan existir dentro de los datos\n",
        "dataFrame = dataFrame.replace(r'\\r+|\\n+|\\t+','', regex=True)"
      ],
      "metadata": {
        "id": "-L_4WPTbik1G"
      },
      "execution_count": null,
      "outputs": []
    },
    {
      "cell_type": "code",
      "source": [
        "# Muestra información general del dataset, incluyendo los tipos de datos.\n",
        "print(\"Muestra información general del dataset, incluyendo los tipos de datos\")\n",
        "print(dataFrame.info())"
      ],
      "metadata": {
        "colab": {
          "base_uri": "https://localhost:8080/"
        },
        "id": "EzCoFGERfAss",
        "outputId": "ea2cc128-76ca-4bdd-e26f-1aa86fa1d22a"
      },
      "execution_count": null,
      "outputs": [
        {
          "output_type": "stream",
          "name": "stdout",
          "text": [
            "Muestra información general del dataset, incluyendo los tipos de datos\n",
            "<class 'pandas.core.frame.DataFrame'>\n",
            "RangeIndex: 3333 entries, 0 to 3332\n",
            "Data columns (total 21 columns):\n",
            " #   Column                  Non-Null Count  Dtype \n",
            "---  ------                  --------------  ----- \n",
            " 0   state                   3333 non-null   object\n",
            " 1   account length          3333 non-null   object\n",
            " 2   area code               3333 non-null   object\n",
            " 3   phone number            3333 non-null   object\n",
            " 4   international plan      3333 non-null   object\n",
            " 5   voice mail plan         3333 non-null   object\n",
            " 6   number vmail messages   3333 non-null   object\n",
            " 7   total day minutes       3333 non-null   object\n",
            " 8   total day calls         3333 non-null   object\n",
            " 9   total day charge        3333 non-null   object\n",
            " 10  total eve minutes       3333 non-null   object\n",
            " 11  total eve calls         3333 non-null   object\n",
            " 12  total eve charge        3333 non-null   object\n",
            " 13  total night minutes     3333 non-null   object\n",
            " 14  total night calls       3333 non-null   object\n",
            " 15  total night charge      3333 non-null   object\n",
            " 16  total intl minutes      3333 non-null   object\n",
            " 17  total intl calls        3333 non-null   object\n",
            " 18  total intl charge       3333 non-null   object\n",
            " 19  customer service calls  3333 non-null   object\n",
            " 20  churn                   3333 non-null   object\n",
            "dtypes: object(21)\n",
            "memory usage: 546.9+ KB\n",
            "None\n"
          ]
        }
      ]
    },
    {
      "cell_type": "markdown",
      "source": [
        "Todos los valores están cargados como texto y no hay presencia de valores nulos."
      ],
      "metadata": {
        "id": "YyCr6todeyiD"
      }
    },
    {
      "cell_type": "code",
      "source": [
        "# Se realiza renombrado de columnas para una mejor legibilidad\n",
        "dataFrame.rename(columns={'account length': 'account_length',\n",
        "                          'area code': 'area_code',\n",
        "                          'phone number': 'phone_number',\n",
        "                          'international plan': 'international_plan',\n",
        "                          'voice mail plan': 'voice_mail_plan',\n",
        "                          'number vmail messages': 'number_vmail_messages',\n",
        "                          'total day minutes': 'total_day_minutes',\n",
        "                          'total day calls': 'total_day_calls',\n",
        "                          'total day charge': 'total_day_charge',\n",
        "                          'total eve minutes': 'total_eve_minutes',\n",
        "                          'total eve calls': 'total_eve_calls',\n",
        "                          'total eve charge': 'total_eve_charge',\n",
        "                          'total night minutes': 'total_night_minutes',\n",
        "                          'total night calls': 'total_night_calls',\n",
        "                          'total night charge': 'total_night_charge',\n",
        "                          'total intl minutes': 'total_intl_minutes',\n",
        "                          'total intl calls': 'total_intl_calls',\n",
        "                          'total intl charge': 'total_intl_charge',\n",
        "                          'customer service calls': 'customer_service_calls',},\n",
        "                 inplace=True)\n",
        "\n",
        "# Verificamos el cambio de los nombres de las columnas\n",
        "print(dataFrame.info())"
      ],
      "metadata": {
        "colab": {
          "base_uri": "https://localhost:8080/"
        },
        "id": "qiObj1HJgvtt",
        "outputId": "76cd1261-2784-40fb-8009-f2ea69b297eb"
      },
      "execution_count": null,
      "outputs": [
        {
          "output_type": "stream",
          "name": "stdout",
          "text": [
            "<class 'pandas.core.frame.DataFrame'>\n",
            "RangeIndex: 3333 entries, 0 to 3332\n",
            "Data columns (total 21 columns):\n",
            " #   Column                  Non-Null Count  Dtype \n",
            "---  ------                  --------------  ----- \n",
            " 0   state                   3333 non-null   object\n",
            " 1   account_length          3333 non-null   object\n",
            " 2   area_code               3333 non-null   object\n",
            " 3   phone_number            3333 non-null   object\n",
            " 4   international_plan      3333 non-null   object\n",
            " 5   voice_mail_plan         3333 non-null   object\n",
            " 6   number_vmail_messages   3333 non-null   object\n",
            " 7   total_day_minutes       3333 non-null   object\n",
            " 8   total_day_calls         3333 non-null   object\n",
            " 9   total_day_charge        3333 non-null   object\n",
            " 10  total_eve_minutes       3333 non-null   object\n",
            " 11  total_eve_calls         3333 non-null   object\n",
            " 12  total_eve_charge        3333 non-null   object\n",
            " 13  total_night_minutes     3333 non-null   object\n",
            " 14  total_night_calls       3333 non-null   object\n",
            " 15  total_night_charge      3333 non-null   object\n",
            " 16  total_intl_minutes      3333 non-null   object\n",
            " 17  total_intl_calls        3333 non-null   object\n",
            " 18  total_intl_charge       3333 non-null   object\n",
            " 19  customer_service_calls  3333 non-null   object\n",
            " 20  churn                   3333 non-null   object\n",
            "dtypes: object(21)\n",
            "memory usage: 546.9+ KB\n",
            "None\n"
          ]
        }
      ]
    },
    {
      "cell_type": "code",
      "source": [
        "# Se ajusta el tipo de dato por columna\n",
        "dataFrame['account_length'] = dataFrame['account_length'].astype(int)\n",
        "dataFrame['area_code'] = dataFrame['area_code'].astype(int)\n",
        "dataFrame['number_vmail_messages'] = dataFrame['number_vmail_messages'].astype(int)\n",
        "dataFrame['total_day_minutes'] = dataFrame['total_day_minutes'].astype(float)\n",
        "dataFrame['total_day_calls'] = dataFrame['total_day_calls'].astype(int)\n",
        "dataFrame['total_day_charge'] = dataFrame['total_day_charge'].astype(float)\n",
        "dataFrame['total_eve_minutes'] = dataFrame['total_eve_minutes'].astype(float)\n",
        "dataFrame['total_eve_calls'] = dataFrame['total_eve_calls'].astype(int)\n",
        "dataFrame['total_eve_charge'] = dataFrame['total_eve_charge'].astype(float)\n",
        "dataFrame['total_night_minutes'] = dataFrame['total_night_minutes'].astype(float)\n",
        "dataFrame['total_night_calls'] = dataFrame['total_night_calls'].astype(int)\n",
        "dataFrame['total_night_charge'] = dataFrame['total_night_charge'].astype(float)\n",
        "dataFrame['total_intl_minutes'] = dataFrame['total_intl_minutes'].astype(float)\n",
        "dataFrame['total_intl_calls'] = dataFrame['total_intl_calls'].astype(int)\n",
        "dataFrame['total_intl_charge'] = dataFrame['total_intl_charge'].astype(float)\n",
        "dataFrame['customer_service_calls'] = dataFrame['customer_service_calls'].astype(int)\n",
        "\n",
        "# Verificamos el cambio del tipo de dato en las columnas\n",
        "print(dataFrame.info())"
      ],
      "metadata": {
        "colab": {
          "base_uri": "https://localhost:8080/"
        },
        "id": "osk-4XOjlhhc",
        "outputId": "f5eb66a8-b29f-4e6b-e0b6-052cd170a3da"
      },
      "execution_count": null,
      "outputs": [
        {
          "output_type": "stream",
          "name": "stdout",
          "text": [
            "<class 'pandas.core.frame.DataFrame'>\n",
            "RangeIndex: 3333 entries, 0 to 3332\n",
            "Data columns (total 21 columns):\n",
            " #   Column                  Non-Null Count  Dtype  \n",
            "---  ------                  --------------  -----  \n",
            " 0   state                   3333 non-null   object \n",
            " 1   account_length          3333 non-null   int64  \n",
            " 2   area_code               3333 non-null   int64  \n",
            " 3   phone_number            3333 non-null   object \n",
            " 4   international_plan      3333 non-null   object \n",
            " 5   voice_mail_plan         3333 non-null   object \n",
            " 6   number_vmail_messages   3333 non-null   int64  \n",
            " 7   total_day_minutes       3333 non-null   float64\n",
            " 8   total_day_calls         3333 non-null   int64  \n",
            " 9   total_day_charge        3333 non-null   float64\n",
            " 10  total_eve_minutes       3333 non-null   float64\n",
            " 11  total_eve_calls         3333 non-null   int64  \n",
            " 12  total_eve_charge        3333 non-null   float64\n",
            " 13  total_night_minutes     3333 non-null   float64\n",
            " 14  total_night_calls       3333 non-null   int64  \n",
            " 15  total_night_charge      3333 non-null   float64\n",
            " 16  total_intl_minutes      3333 non-null   float64\n",
            " 17  total_intl_calls        3333 non-null   int64  \n",
            " 18  total_intl_charge       3333 non-null   float64\n",
            " 19  customer_service_calls  3333 non-null   int64  \n",
            " 20  churn                   3333 non-null   object \n",
            "dtypes: float64(8), int64(8), object(5)\n",
            "memory usage: 546.9+ KB\n",
            "None\n"
          ]
        }
      ]
    },
    {
      "cell_type": "code",
      "source": [
        "# Identifica si hay valores nulos en alguna columna.\n",
        "print(\"Identifica si hay valores nulos en alguna columna\")\n",
        "print(dataFrame.isnull().sum())"
      ],
      "metadata": {
        "colab": {
          "base_uri": "https://localhost:8080/"
        },
        "id": "DeVcebppfBVe",
        "outputId": "a64c1d7e-5e99-4ecc-e601-1da0c0c9f542"
      },
      "execution_count": null,
      "outputs": [
        {
          "output_type": "stream",
          "name": "stdout",
          "text": [
            "Identifica si hay valores nulos en alguna columna\n",
            "state                     0\n",
            "account_length            0\n",
            "area_code                 0\n",
            "phone_number              0\n",
            "international_plan        0\n",
            "voice_mail_plan           0\n",
            "number_vmail_messages     0\n",
            "total_day_minutes         0\n",
            "total_day_calls           0\n",
            "total_day_charge          0\n",
            "total_eve_minutes         0\n",
            "total_eve_calls           0\n",
            "total_eve_charge          0\n",
            "total_night_minutes       0\n",
            "total_night_calls         0\n",
            "total_night_charge        0\n",
            "total_intl_minutes        0\n",
            "total_intl_calls          0\n",
            "total_intl_charge         0\n",
            "customer_service_calls    0\n",
            "churn                     0\n",
            "dtype: int64\n"
          ]
        }
      ]
    },
    {
      "cell_type": "markdown",
      "source": [
        "No se detctan valores nulos en el dataFrame."
      ],
      "metadata": {
        "id": "6GlwT2mLG0Af"
      }
    },
    {
      "cell_type": "code",
      "source": [
        "# Tratamos de identificar filas duplicadas en todo el dataFrame\n",
        "print(\"Cantidad de filas duplicados en todo el dataFrame: \", dataFrame.duplicated().sum())"
      ],
      "metadata": {
        "colab": {
          "base_uri": "https://localhost:8080/"
        },
        "id": "iR9rR57BUxb-",
        "outputId": "d4a6661a-fdf9-4387-c07d-b348358499ef"
      },
      "execution_count": null,
      "outputs": [
        {
          "output_type": "stream",
          "name": "stdout",
          "text": [
            "Cantidad de filas duplicados en todo el dataFrame:  0\n"
          ]
        }
      ]
    },
    {
      "cell_type": "markdown",
      "source": [
        "No se detectaron filas duplicadas en todo el dataFrame"
      ],
      "metadata": {
        "id": "TJLyfLGTXYIb"
      }
    },
    {
      "cell_type": "code",
      "source": [
        "# Tratamos de identificar valores duplicados en la columna phone_numer que puede servir de indice para usos futuros\n",
        "print(\"Cantidad de numeros duplicados en columna phone_number: \", dataFrame.duplicated(subset=['phone_number']).sum())"
      ],
      "metadata": {
        "colab": {
          "base_uri": "https://localhost:8080/"
        },
        "id": "bvQ8zMpkHzyT",
        "outputId": "1c0cfb72-d987-4d03-96fa-5d405cfa22ec"
      },
      "execution_count": null,
      "outputs": [
        {
          "output_type": "stream",
          "name": "stdout",
          "text": [
            "Cantidad de numeros duplicados en columna phone_number:  0\n"
          ]
        }
      ]
    },
    {
      "cell_type": "markdown",
      "source": [
        "No se detectan valores duplicados en **phone_number**, entonces a un registro exclusivo por cada phone_number."
      ],
      "metadata": {
        "id": "jjS9ehNeIrAp"
      }
    },
    {
      "cell_type": "code",
      "source": [
        "# Verificamos cuántos valores diferentes hay en churn\n",
        "print(\"Verificamos cuántos valores diferentes hay en churn\")\n",
        "print(dataFrame['churn'].value_counts())"
      ],
      "metadata": {
        "colab": {
          "base_uri": "https://localhost:8080/"
        },
        "id": "oaWXuCgOMV9x",
        "outputId": "6ad1635c-c443-4b17-9e3e-0ecd212a1b3e"
      },
      "execution_count": null,
      "outputs": [
        {
          "output_type": "stream",
          "name": "stdout",
          "text": [
            "Verificamos cuántos valores diferentes hay en churn\n",
            "churn\n",
            "FALSE    2850\n",
            "TRUE      483\n",
            "Name: count, dtype: int64\n"
          ]
        }
      ]
    },
    {
      "cell_type": "markdown",
      "source": [
        "Solo se detectan dos valores posibles TRUE/FALSE en churn."
      ],
      "metadata": {
        "id": "AU-1R6IEMXVm"
      }
    },
    {
      "cell_type": "code",
      "source": [
        "# Ajustamos la columna churn donde FALSE se transforma en '0' y TRUE se transforma en '1'\n",
        "dataFrame['churn'] = dataFrame['churn'].replace({'FALSE': '0', 'TRUE': '1'})\n",
        "\n",
        "# Ahorala columna churn se cambia a tipo int\n",
        "dataFrame['churn'] = dataFrame['churn'].astype(int)\n",
        "\n",
        "# Verificamos los cambio en la colmuna churn\n",
        "print(dataFrame.info())"
      ],
      "metadata": {
        "colab": {
          "base_uri": "https://localhost:8080/"
        },
        "id": "V9eAgClRrgHN",
        "outputId": "82ecf5e8-496e-4ad6-ce2c-cf9ab512e176"
      },
      "execution_count": null,
      "outputs": [
        {
          "output_type": "stream",
          "name": "stdout",
          "text": [
            "<class 'pandas.core.frame.DataFrame'>\n",
            "RangeIndex: 3333 entries, 0 to 3332\n",
            "Data columns (total 21 columns):\n",
            " #   Column                  Non-Null Count  Dtype  \n",
            "---  ------                  --------------  -----  \n",
            " 0   state                   3333 non-null   object \n",
            " 1   account_length          3333 non-null   int64  \n",
            " 2   area_code               3333 non-null   int64  \n",
            " 3   phone_number            3333 non-null   object \n",
            " 4   international_plan      3333 non-null   object \n",
            " 5   voice_mail_plan         3333 non-null   object \n",
            " 6   number_vmail_messages   3333 non-null   int64  \n",
            " 7   total_day_minutes       3333 non-null   float64\n",
            " 8   total_day_calls         3333 non-null   int64  \n",
            " 9   total_day_charge        3333 non-null   float64\n",
            " 10  total_eve_minutes       3333 non-null   float64\n",
            " 11  total_eve_calls         3333 non-null   int64  \n",
            " 12  total_eve_charge        3333 non-null   float64\n",
            " 13  total_night_minutes     3333 non-null   float64\n",
            " 14  total_night_calls       3333 non-null   int64  \n",
            " 15  total_night_charge      3333 non-null   float64\n",
            " 16  total_intl_minutes      3333 non-null   float64\n",
            " 17  total_intl_calls        3333 non-null   int64  \n",
            " 18  total_intl_charge       3333 non-null   float64\n",
            " 19  customer_service_calls  3333 non-null   int64  \n",
            " 20  churn                   3333 non-null   int64  \n",
            "dtypes: float64(8), int64(9), object(4)\n",
            "memory usage: 546.9+ KB\n",
            "None\n"
          ]
        }
      ]
    },
    {
      "cell_type": "markdown",
      "source": [
        "**Análisis de Churn y Factores Relacionados**\n",
        "\n",
        "Calcula el porcentaje de clientes que han desertado (churn = 1).\n",
        "\n",
        "Identifica si los clientes con plan internacional (international plan) tienen mayor tasa de deserción.\n",
        "\n",
        "Identifica si los clientes con buzón de voz (voice mail plan) tienen menor tasa de deserción."
      ],
      "metadata": {
        "id": "PIGXq-ijFgb4"
      }
    },
    {
      "cell_type": "code",
      "source": [
        "# Solución propuesta\n",
        "\n",
        "# Número total de clientes\n",
        "total_rows = len(dataFrame)\n",
        "print(f\"El número total de clientes es                        :  {total_rows}\")\n",
        "\n",
        "# Número de filas con churn = 1\n",
        "churn_1 = len(dataFrame[dataFrame['churn'] == 1])\n",
        "print(f\"El número de clientes que han desertado (churn = 1) es:   {churn_1}\")\n",
        "\n",
        "# Calcula el porcentaje de clientes que han desertado (churn = 1)\n",
        "percentage_churn_1 = (churn_1 / total_rows) * 100\n",
        "print(f\"El porcentaje de clientes que han desertado es        :    {percentage_churn_1:.2f}%\")"
      ],
      "metadata": {
        "id": "3_TFqdwBwUD-",
        "colab": {
          "base_uri": "https://localhost:8080/"
        },
        "outputId": "bf3319db-1f12-47c8-ae1d-3d6d3fd94811"
      },
      "execution_count": null,
      "outputs": [
        {
          "output_type": "stream",
          "name": "stdout",
          "text": [
            "El número total de clientes es                        :  3333\n",
            "El número de clientes que han desertado (churn = 1) es:   483\n",
            "El porcentaje de clientes que han desertado es        :    14.49%\n"
          ]
        }
      ]
    },
    {
      "cell_type": "code",
      "source": [
        "# Identifica si los clientes con plan internacional (international plan) tienen mayor tasa de deserción.\n",
        "\n",
        "# Verificamos cuántos valores diferentes hay en international_plan\n",
        "print(\"Verificamos cuántos valores diferentes hay en international_plan\")\n",
        "print(dataFrame['international_plan'].value_counts())"
      ],
      "metadata": {
        "colab": {
          "base_uri": "https://localhost:8080/"
        },
        "id": "-b4pJJr1QygO",
        "outputId": "8bee0471-cc74-40fd-aff3-249a0a68d26e"
      },
      "execution_count": null,
      "outputs": [
        {
          "output_type": "stream",
          "name": "stdout",
          "text": [
            "Verificamos cuántos valores diferentes hay en international_plan\n",
            "international_plan\n",
            "no     3010\n",
            "yes     323\n",
            "Name: count, dtype: int64\n"
          ]
        }
      ]
    },
    {
      "cell_type": "markdown",
      "source": [
        "Sólo se identifican 2 valores posibles no/yes en international_plan."
      ],
      "metadata": {
        "id": "hycCGOBGQ1L3"
      }
    },
    {
      "cell_type": "code",
      "source": [
        "# Cantidad de clientes con international_plan = yes\n",
        "international_plan_yes = len(dataFrame[dataFrame['international_plan'] == 'yes'])\n",
        "print(f\"El número de clientes con international_plan es                         : {international_plan_yes}\")\n",
        "\n",
        "# Cantidad de clientes con plan internacional y abandonaron la empresa\n",
        "international_plan_yes_churn_1 = len(dataFrame[(dataFrame['churn'] == 1) & (dataFrame['international_plan'] == 'yes')])\n",
        "print(f\"El número de clientes con international_plan y abandonaron la empresa es: {international_plan_yes_churn_1}\")\n",
        "\n",
        "# Tasa de tener plan internacional y abandonar la empresa\n",
        "international_plan_yes_churn_1_percentage = (international_plan_yes_churn_1 / international_plan_yes) * 100\n",
        "print(f\"La tasa de deserción de los clientes con international_plan es de       :  {international_plan_yes_churn_1_percentage:.2f}%\")\n",
        "\n",
        "print()\n",
        "\n",
        "# Cantidad de clientes sin international_plan = no\n",
        "international_plan_no = len(dataFrame[dataFrame['international_plan'] == 'no'])\n",
        "print(f\"El número de clientes sin international_plan es                         : {international_plan_no}\")\n",
        "\n",
        "# Cantidad de clientes sin plan internacional y abandonaron la empresa\n",
        "international_plan_no_churn_1 = len(dataFrame[(dataFrame['churn'] == 1) & (dataFrame['international_plan'] == 'no')])\n",
        "print(f\"El número de clientes sin international_plan y abandonaron la empresa es:  {international_plan_no_churn_1}\")\n",
        "\n",
        "# Tasa de No tener plan internacional y abandonar la empresa\n",
        "percentage_international_plan_no_churn_1_percentage = (international_plan_no_churn_1 / international_plan_no) * 100\n",
        "print(f\"La tasa de deserción de los clientes sin international_plan es de       :   {percentage_international_plan_no_churn_1_percentage:.2f}%\")"
      ],
      "metadata": {
        "colab": {
          "base_uri": "https://localhost:8080/"
        },
        "id": "FBE3m9Ltvryb",
        "outputId": "66e52947-9fe1-476a-c0b4-d0a225bbf9af"
      },
      "execution_count": null,
      "outputs": [
        {
          "output_type": "stream",
          "name": "stdout",
          "text": [
            "El número de clientes con international_plan es                         : 323\n",
            "El número de clientes con international_plan y abandonaron la empresa es: 137\n",
            "La tasa de deserción de los clientes con international_plan es de       :  42.41%\n",
            "\n",
            "El número de clientes sin international_plan es                         : 3010\n",
            "El número de clientes sin international_plan y abandonaron la empresa es:  346\n",
            "La tasa de deserción de los clientes sin international_plan es de       :   11.50%\n"
          ]
        }
      ]
    },
    {
      "cell_type": "markdown",
      "source": [
        "Los clientes con plan internacional tienen mayor tasa de deserción que los clientes que no tienen plan internacional: $42.41\\% > 11.50\\%$"
      ],
      "metadata": {
        "id": "7m2E_6EPCgRX"
      }
    },
    {
      "cell_type": "code",
      "source": [
        "# Identifica si los clientes con buzón de voz (voice mail plan) tienen menor tasa de deserción.\n",
        "\n",
        "# Verificamos cuántos valores diferentes hay en voice_mail_plan\n",
        "print(\"Verificamos cuántos valores diferentes hay en voice_mail_plan\")\n",
        "print(dataFrame['voice_mail_plan'].value_counts())"
      ],
      "metadata": {
        "colab": {
          "base_uri": "https://localhost:8080/"
        },
        "id": "LZoILrk9RFnV",
        "outputId": "9b92a257-65f5-4379-e74a-9ddb33b3b585"
      },
      "execution_count": null,
      "outputs": [
        {
          "output_type": "stream",
          "name": "stdout",
          "text": [
            "Verificamos cuántos valores diferentes hay en voice_mail_plan\n",
            "voice_mail_plan\n",
            "no     2411\n",
            "yes     922\n",
            "Name: count, dtype: int64\n"
          ]
        }
      ]
    },
    {
      "cell_type": "markdown",
      "source": [
        "Sólo se identifican 2 valores posibles no/yes en voice_mail_plan."
      ],
      "metadata": {
        "id": "YycI5C-pRZnb"
      }
    },
    {
      "cell_type": "code",
      "source": [
        "# Cantidad de clientes con voice_mail_plan = yes\n",
        "voice_mail_plan_yes = len(dataFrame[dataFrame['voice_mail_plan'] == 'yes'])\n",
        "print(f\"El número de clientes con voice_mail_plan es                         :  {voice_mail_plan_yes}\")\n",
        "\n",
        "# Cantidad de clientes con voice_mail_plan y abandonaron la empresa\n",
        "voice_mail_plan_yes_churn_1 = len(dataFrame[(dataFrame['churn'] == 1) & (dataFrame['voice_mail_plan'] == 'yes')])\n",
        "print(f\"El número de clientes con voice_mail_plan y abandonaron la empresa es:   {voice_mail_plan_yes_churn_1}\")\n",
        "\n",
        "# Tasa de tener voice_mail_plan y abandonar la empresa\n",
        "percentage_voice_mail_plan_yes_churn_1 = (voice_mail_plan_yes_churn_1 / voice_mail_plan_yes) * 100\n",
        "print(f\"La tasa de deserción de los clientes con voice_mail_plan es de       :    {percentage_voice_mail_plan_yes_churn_1:.2f}%\")\n",
        "\n",
        "print()\n",
        "\n",
        "# Cantidad de clientes sin voice_mail_plan = no\n",
        "voice_mail_plan_no = len(dataFrame[dataFrame['voice_mail_plan'] == 'no'])\n",
        "print(f\"El número de clientes sin voice_mail_plan es                         : {voice_mail_plan_no}\")\n",
        "\n",
        "# Cantidad de clientes sin voice_mail_plan y abandonaron la empresa\n",
        "voice_mail_plan_no_churn_1 = len(dataFrame[(dataFrame['churn'] == 1) & (dataFrame['voice_mail_plan'] == 'no')])\n",
        "print(f\"El número de clientes sin voice_mail_plan y abandonaron la empresa es:  {voice_mail_plan_no_churn_1}\")\n",
        "\n",
        "# Tasa de No tener voice_mail_plan y abandonar la empresa\n",
        "percentage_voice_mail_plan_no_churn_1 = (voice_mail_plan_no_churn_1 / voice_mail_plan_no) * 100\n",
        "print(f\"La tasa de deserción de los clientes sin voice_mail_plan es de       :   {percentage_voice_mail_plan_no_churn_1:.2f}%\")"
      ],
      "metadata": {
        "colab": {
          "base_uri": "https://localhost:8080/"
        },
        "id": "5ZUA23CU9BH3",
        "outputId": "f809d853-8701-45d4-9071-fda0fe129dee"
      },
      "execution_count": null,
      "outputs": [
        {
          "output_type": "stream",
          "name": "stdout",
          "text": [
            "El número de clientes con voice_mail_plan es                         :  922\n",
            "El número de clientes con voice_mail_plan y abandonaron la empresa es:   80\n",
            "La tasa de deserción de los clientes con voice_mail_plan es de       :    8.68%\n",
            "\n",
            "El número de clientes sin voice_mail_plan es                         : 2411\n",
            "El número de clientes sin voice_mail_plan y abandonaron la empresa es:  403\n",
            "La tasa de deserción de los clientes sin voice_mail_plan es de       :   16.72%\n"
          ]
        }
      ]
    },
    {
      "cell_type": "markdown",
      "source": [
        "Los clientes con voice_mail_plan tienen menor tasa de deserción que los clientes que no tienen voice_mail_plan: $8.68\\% < 16.72\\%$"
      ],
      "metadata": {
        "id": "BEwsRKQrHBxz"
      }
    },
    {
      "cell_type": "markdown",
      "source": [
        "**Análisis de la Duración del Servicio y Deserción**\n",
        "\n",
        "¿Cuál es la duración promedio de la cuenta (account length) entre clientes que desertaron y los que permanecen?\n",
        "\n",
        "¿Los clientes con cuentas más antiguas tienen más probabilidades de desertar?"
      ],
      "metadata": {
        "id": "yL8Y_juFFup7"
      }
    },
    {
      "cell_type": "code",
      "source": [
        "# Solución propuesta\n",
        "\n",
        "# ¿Cuál es la duración promedio de la cuenta (account length) entre clientes que desertaron y los que permanecen?\n",
        "\n",
        "# Duración promedio de la cuenta en los clientes que desertaron\n",
        "account_length_churn_1 = dataFrame[dataFrame['churn'] == 1]['account_length'].mean()\n",
        "print(f\"La duración promedio de la cuenta en los clientes que desertaron es : {account_length_churn_1:.2f}\")\n",
        "\n",
        "# Duración promedio de la cuenta en lo clientes permanencen\n",
        "account_length_churn_0 = dataFrame[dataFrame['churn'] == 0]['account_length'].mean()\n",
        "print(f\"La duración promedio de la cuenta en los clientes aue permanecen es : {account_length_churn_0:.2f}\")\n",
        "\n",
        "# Porcentaje de diferencia etre promedios\n",
        "percentage_between_churns = (account_length_churn_1-account_length_churn_0) * 100/account_length_churn_1\n",
        "print(f\"El porcentaje de diferencia entre los dos promedios es de           :   {percentage_between_churns:.2f}%\")"
      ],
      "metadata": {
        "id": "7ViU0n6lGFao",
        "colab": {
          "base_uri": "https://localhost:8080/"
        },
        "outputId": "5fdd6c74-7a05-4b3d-fece-c9bf0543772e"
      },
      "execution_count": null,
      "outputs": [
        {
          "output_type": "stream",
          "name": "stdout",
          "text": [
            "La duración promedio de la cuenta en los clientes que desertaron es : 102.66\n",
            "La duración promedio de la cuenta en los clientes aue permanecen es : 100.79\n",
            "El porcentaje de diferencia entre los dos promedios es de           :   1.82%\n"
          ]
        }
      ]
    },
    {
      "cell_type": "markdown",
      "source": [
        "No hay una diferencia significativa $(1.82\\%)$ entre el promedio de account_lenght de los que han desertado vs los que que permanecen."
      ],
      "metadata": {
        "id": "fYE6LhC0z-YJ"
      }
    },
    {
      "cell_type": "code",
      "source": [
        "# ¿Los clientes con cuentas más antiguas tienen más probabilidades de desertar?\n",
        "\n",
        "# Asumiendo (por falta de información) o considerando las cuentas más antiguas son las de account_length >= 200\n",
        "\n",
        "# Cantidad de cuentas antiguas account_length >= 200\n",
        "account_length_old = len(dataFrame[dataFrame['account_length'] >= 200])\n",
        "print(f\"El número de cuentas account_length >= 200 es               :   {account_length_old}\")\n",
        "\n",
        "# Cantidad de cuentas antiguas que desertaron\n",
        "account_length_old_churn_1 = len(dataFrame[(dataFrame['churn'] == 1) & (dataFrame['account_length'] >= 200)])\n",
        "print(f\"El número de cuentas account_length >= 200 que desertaron es:    {account_length_old_churn_1}\")\n",
        "\n",
        "# Probabilidad de la cuentas activas que desertaron\n",
        "percentage_account_length_old_churn_1 = (account_length_old_churn_1 / account_length_old) * 100\n",
        "print(f\"La probabilidad de que las cuentas 'antiguas' deserten es   :   {percentage_account_length_old_churn_1:.2f}%\")\n",
        "\n",
        "print()\n",
        "\n",
        "# Cantidad de cuentas no antiguas account_length < 200\n",
        "account_length_no_old = len(dataFrame[dataFrame['account_length'] < 200])\n",
        "print(f\"El número de cuentas account_length < 200 es                : {account_length_no_old}\")\n",
        "\n",
        "# Cantidad de cuentas no antiguas que desertaron\n",
        "account_length_no_old_churn_1 = len(dataFrame[(dataFrame['churn'] == 1) & (dataFrame['account_length'] < 200)])\n",
        "print(f\"El número de cuentas account_length < 200 que desertaron es :  {account_length_no_old_churn_1}\")\n",
        "\n",
        "# Probabilidad de la cuentas no activas que desertaron\n",
        "percentage_account_length_no_old_churn_1 = (account_length_no_old_churn_1 / account_length_no_old) * 100\n",
        "print(f\"La probabilidad de la cuentas no antiguas deserten es       :   {percentage_account_length_no_old_churn_1:.2f}%\")"
      ],
      "metadata": {
        "colab": {
          "base_uri": "https://localhost:8080/"
        },
        "id": "iKAradKL0Exq",
        "outputId": "3c7883cd-b173-4a2a-88fb-87681b6afe7c"
      },
      "execution_count": null,
      "outputs": [
        {
          "output_type": "stream",
          "name": "stdout",
          "text": [
            "El número de cuentas account_length >= 200 es               :   27\n",
            "El número de cuentas account_length >= 200 que desertaron es:    6\n",
            "La probabilidad de que las cuentas 'antiguas' deserten es   :   22.22%\n",
            "\n",
            "El número de cuentas account_length < 200 es                : 3306\n",
            "El número de cuentas account_length < 200 que desertaron es :  477\n",
            "La probabilidad de la cuentas no antiguas deserten es       :   14.43%\n"
          ]
        }
      ]
    },
    {
      "cell_type": "markdown",
      "source": [
        "Inicialmente, los clientes con cuentas antiguas tienen mayor probabilidad de desertar que los clientes no tan antiguos: $22.22\\%$ > $14.43\\%$"
      ],
      "metadata": {
        "id": "SXz8cPs0Ortt"
      }
    },
    {
      "cell_type": "markdown",
      "source": [
        "**Relación entre Deserción y Uso del Servicio**\n",
        "\n",
        "Compara la cantidad de minutos usados en llamadas diurnas (total day minutes) entre clientes con y sin churn.\n",
        "\n",
        "Compara la cantidad de minutos usados en llamadas nocturnas (total night minutes).\n",
        "\n",
        "Compara el número total de llamadas (total day calls) entre clientes con y sin churn."
      ],
      "metadata": {
        "id": "vyaa82K0GF6B"
      }
    },
    {
      "cell_type": "code",
      "source": [
        "# Solución propuesta\n",
        "\n",
        "# Compara la cantidad de minutos usados en llamadas diurnas (total day minutes) entre clientes con y sin churn.\n",
        "\n",
        "# Sumatoria de minutos usados en llamadas diurnas por clientes sin importar el churn\n",
        "total_day_minutes = dataFrame['total_day_minutes'].sum()\n",
        "print(f\"La sumatoria de minutos usados en llamadas diurnas por clientes es           : {total_day_minutes:.2f}\")\n",
        "\n",
        "# Sumatoria de minutos usados en llamadas diurnas por clientes sin churn\n",
        "total_day_minutes_churn_0 = dataFrame[dataFrame['churn'] == 0]['total_day_minutes'].sum()\n",
        "print(f\"La sumatoria de minutos usados en llamadas diurnas por clientes sin churn es : {total_day_minutes_churn_0:.2f}\")\n",
        "\n",
        "# Sumatoria de minutos usados en llamadas diurnas por clientes con churn\n",
        "total_day_minutes_churn_1 = dataFrame[dataFrame['churn'] == 1]['total_day_minutes'].sum()\n",
        "print(f\"La sumatoria de minutos usados en llamadas diurnas por clientes con churn es :  {total_day_minutes_churn_1:.2f}\")\n",
        "\n",
        "# Porcentaje de minutos usados en llamadas diurnas por clientes con churn\n",
        "percentage_total_day_minutes_churn_1 = (total_day_minutes_churn_1 / total_day_minutes) * 100\n",
        "print(f\"El porcentaje de minutos usados en llamadas diurnas por clientes con churn es:     {percentage_total_day_minutes_churn_1:.2f}%\")"
      ],
      "metadata": {
        "id": "d4aPKcv2GrpL",
        "colab": {
          "base_uri": "https://localhost:8080/"
        },
        "outputId": "2e4a625a-0e39-4e25-fa82-be502ec16a6b"
      },
      "execution_count": null,
      "outputs": [
        {
          "output_type": "stream",
          "name": "stdout",
          "text": [
            "La sumatoria de minutos usados en llamadas diurnas por clientes es           : 599190.40\n",
            "La sumatoria de minutos usados en llamadas diurnas por clientes sin churn es : 499250.90\n",
            "La sumatoria de minutos usados en llamadas diurnas por clientes con churn es :  99939.50\n",
            "El porcentaje de minutos usados en llamadas diurnas por clientes con churn es:     16.68%\n"
          ]
        }
      ]
    },
    {
      "cell_type": "markdown",
      "source": [
        "Los minutos de los clientes que han desertado, solo aportan el $\\approx 16.68\\%$ del total en el horario diurno."
      ],
      "metadata": {
        "id": "nb_thJwX62H5"
      }
    },
    {
      "cell_type": "code",
      "source": [
        "# Solución propuesta\n",
        "\n",
        "# Compara la cantidad de minutos usados en llamadas nocturnas (total night minutes).\n",
        "\n",
        "# Sumatoria de minutos usados en llamadas nocturnas por clientes sin importar el churn\n",
        "total_night_minutes = dataFrame['total_night_minutes'].sum()\n",
        "print(f\"La sumatoria de minutos usados en llamadas nocturnas por clientes es          : {total_night_minutes:.2f}\")\n",
        "\n",
        "# Sumatoria de minutos usados en llamadas nocturnas por clientes sin churn\n",
        "total_night_minutes_churn_0 = dataFrame[dataFrame['churn'] == 0]['total_night_minutes'].sum()\n",
        "print(f\"La sumatoria de minutos usados en llamadas nocturnas por clientes sin churn es: {total_night_minutes_churn_0:.2f}\")\n",
        "\n",
        "# Sumatoria de minutos usados en llamadas nocturnas por clientes con churn\n",
        "total_night_minutes_churn_1 = dataFrame[dataFrame['churn'] == 1]['total_night_minutes'].sum()\n",
        "print(f\"La sumatoria de minutos usados en llamadas nocturnas por clientes con churn es:  {total_night_minutes_churn_1:.2f}\")\n",
        "\n",
        "# Porcentaje de llamadas nocturnas de usuarios desertores\n",
        "percentage_total_night_churn_1 = total_night_minutes_churn_1 * 100/total_night_minutes\n",
        "print(f\"Porcentaje de minutos usados en llamadas nocturnas por clientes con churn es  :     {percentage_total_night_churn_1:.2f}%\")"
      ],
      "metadata": {
        "colab": {
          "base_uri": "https://localhost:8080/"
        },
        "outputId": "b464ec03-f81b-4203-a39d-2ec3bb042840",
        "id": "B7SFQc7LZkoL"
      },
      "execution_count": null,
      "outputs": [
        {
          "output_type": "stream",
          "name": "stdout",
          "text": [
            "La sumatoria de minutos usados en llamadas nocturnas por clientes es          : 669506.50\n",
            "La sumatoria de minutos usados en llamadas nocturnas por clientes sin churn es: 570379.60\n",
            "La sumatoria de minutos usados en llamadas nocturnas por clientes con churn es:  99126.90\n",
            "Porcentaje de minutos usados en llamadas nocturnas por clientes con churn es  :     14.81%\n"
          ]
        }
      ]
    },
    {
      "cell_type": "markdown",
      "source": [
        "Los minutos de los clientes que han desertado, solo aportan el $\\approx 14.81\\%$ del total en el horario nocturno."
      ],
      "metadata": {
        "id": "cdXwR7d06wZN"
      }
    },
    {
      "cell_type": "code",
      "source": [
        "# Solución propuesta\n",
        "\n",
        "# Compara el número total de llamadas (total day calls) entre clientes con y sin churn.\n",
        "\n",
        "# Sumatoria de llamadas realizadas por clientes sin importar el churn\n",
        "total_day_calls = dataFrame['total_day_calls'].sum()\n",
        "print(f\"La sumatoria de llamadas diurnas de los clientes es           : {total_day_calls}\")\n",
        "\n",
        "# Sumatoria de lamadas realizadas por clientes por clientes sin churn\n",
        "total_day_calls_churn_0 = dataFrame[dataFrame['churn'] == 0]['total_day_calls'].sum()\n",
        "print(f\"La sumatoria de llamadas diurnas de los clientes sin churn es : {total_day_calls_churn_0}\")\n",
        "\n",
        "# Sumatoria de lamadas realizadas por clientes por clientes con churn\n",
        "total_day_calls_churn_1 = dataFrame[dataFrame['churn'] == 1]['total_day_calls'].sum()\n",
        "print(f\"La sumatoria de llamadas diurnas de los clientes con churn es :  {total_day_calls_churn_1}\")\n",
        "\n",
        "# Porcentaje de llamadas ealizadas por clientes con churn\n",
        "percentage_total_day_calls_churn_1 = (total_day_calls_churn_1 / total_day_calls) * 100\n",
        "print(f\"El porcentaje de llamadas diurnas de los clientes con churn es:     {percentage_total_day_calls_churn_1:.2f}%\")"
      ],
      "metadata": {
        "colab": {
          "base_uri": "https://localhost:8080/"
        },
        "outputId": "1c510058-2fca-45cb-d313-af5d2ba888d3",
        "id": "UF9DnPdMZnFI"
      },
      "execution_count": null,
      "outputs": [
        {
          "output_type": "stream",
          "name": "stdout",
          "text": [
            "La sumatoria de llamadas diurnas de los clientes es           : 334752\n",
            "La sumatoria de llamadas diurnas de los clientes sin churn es : 285807\n",
            "La sumatoria de llamadas diurnas de los clientes con churn es :  48945\n",
            "El porcentaje de llamadas diurnas de los clientes con churn es:     14.62%\n"
          ]
        }
      ]
    },
    {
      "cell_type": "markdown",
      "source": [
        "La cantidad de llamadas de los clientes que han desertado, solo aportan el $\\approx 14.62\\%$ del total."
      ],
      "metadata": {
        "id": "8VogJvM6Zw2w"
      }
    },
    {
      "cell_type": "markdown",
      "source": [
        "**Impacto de las Llamadas al Servicio al Cliente en la Deserción**\n",
        "\n",
        "Calcula el número promedio de llamadas al servicio al cliente (customer service calls) entre clientes que desertaron y los que no.\n",
        "\n",
        "Divide los clientes en dos grupos:\n",
        "\n",
        "- Grupo 1: Clientes que llamaron más de 3 veces al servicio al cliente.\n",
        "- Grupo 2: Clientes que llamaron 3 veces o menos.\n",
        "Compara la tasa de churn entre ambos grupos."
      ],
      "metadata": {
        "id": "aKl9LnZgGsDT"
      }
    },
    {
      "cell_type": "code",
      "source": [
        "# Solución propuesta\n",
        "\n",
        "# Promedio de llamadas de clientes que llamaron mas de 3 veces a servicio al cliente y desertaron\n",
        "mean_customer_service_calls_group1_churn_1 = dataFrame[(dataFrame['churn'] == 1) & (dataFrame['customer_service_calls'] > 3)]['customer_service_calls'].mean()\n",
        "print(f\"El promedio de llamadas de clientes que llamaron mas de 3 veces a servicio al cliente y desertaron    : {mean_customer_service_calls_group1_churn_1:.2f}\")\n",
        "\n",
        "# Promedio de llamadas de clientes que llamaron mas de 3 veces a servicio al cliente y no desertaron\n",
        "mean_customer_service_calls_group1_churn_0 = dataFrame[(dataFrame['churn'] == 0) & (dataFrame['customer_service_calls'] > 3)]['customer_service_calls'].mean()\n",
        "print(f\"El promedio de llamadas de clientes que llamaron mas de 3 veces a servicio al cliente y no desertaron : {mean_customer_service_calls_group1_churn_0:.2f}\")\n",
        "\n",
        "# Promedio de llamadas de clientes que llamaron 3 veces o menos a servicio al cliente y desertaron\n",
        "mean_customer_service_calls_group2_churn_1 = dataFrame[(dataFrame['churn'] == 1) & (dataFrame['customer_service_calls'] <= 3)]['customer_service_calls'].mean()\n",
        "print(f\"El promedio de llamadas de clientes que llamaron 3 veces o menos a servicio al cliente y desertaron   : {mean_customer_service_calls_group2_churn_1:.2f}\")\n",
        "\n",
        "# Promedio de llamadas de clientes que llamaron 3 veces o menos a servicio al cliente y no desertaron\n",
        "mean_customer_service_calls_group2_churn_0 = dataFrame[(dataFrame['churn'] == 0) & (dataFrame['customer_service_calls'] <= 3)]['customer_service_calls'].mean()\n",
        "print(f\"El promedio de llamadas de clientes que llamaron 3 veces o menos a servicio al cliente y no desertaron: {mean_customer_service_calls_group2_churn_0:.2f}\")"
      ],
      "metadata": {
        "id": "ac9qDXgrGz-M",
        "colab": {
          "base_uri": "https://localhost:8080/"
        },
        "outputId": "5db099ad-0d95-465e-a36d-1072d5255e4c"
      },
      "execution_count": null,
      "outputs": [
        {
          "output_type": "stream",
          "name": "stdout",
          "text": [
            "El promedio de llamadas de clientes que llamaron mas de 3 veces a servicio al cliente y desertaron    : 4.70\n",
            "El promedio de llamadas de clientes que llamaron mas de 3 veces a servicio al cliente y no desertaron : 4.45\n",
            "El promedio de llamadas de clientes que llamaron 3 veces o menos a servicio al cliente y desertaron   : 1.24\n",
            "El promedio de llamadas de clientes que llamaron 3 veces o menos a servicio al cliente y no desertaron: 1.31\n"
          ]
        }
      ]
    },
    {
      "cell_type": "markdown",
      "source": [
        "**Desertores:**\n",
        "<br/>Desertores Grupo 1 = 4.70\n",
        "<br/>Desertores Grupo 2 = 1.24\n",
        "<br/>Grupo 1 es mayor $\\dfrac{4.70}{1.24}\\approx3.79$ veces que el Grupo 2\n",
        "\n",
        "\n"
      ],
      "metadata": {
        "id": "jpwkBDrgKZxq"
      }
    },
    {
      "cell_type": "markdown",
      "source": [
        "**No Desertores:**\n",
        "<br/>No Desertores Grupo 1 = 4.45\n",
        "<br/>No Desertores Grupo 2 = 1.31  \n",
        "Grupo 1 es mayor $\\dfrac{4.45}{1.31}\\approx3.39$ veces que el Grupo 2"
      ],
      "metadata": {
        "id": "3U8gXoEHSuOw"
      }
    },
    {
      "cell_type": "markdown",
      "source": [
        "* Un cliente antes de desertar, realiza más de 3 llamadas a servicio a\n",
        "cliente, el menos cuatro, casi 5 llamadas.\n",
        "* Un cliente que no deserta, se mantiene en al menos una llamada al servicio al cliente.\n",
        "* Es necesario analizar la calidad de las respuestas que proporciona servicio al cliente a los usuarios, para contrarestar o disminuir la probabilidad de deserción por motivos de respuesta de servicio al cliente."
      ],
      "metadata": {
        "id": "tQ2fYUlyS4j3"
      }
    },
    {
      "cell_type": "markdown",
      "source": [
        "**Análisis del Costo de las Llamadas y Churn**\n",
        "\n",
        "Compara el costo total de llamadas diurnas (total day charge) entre clientes con y sin churn.\n",
        "\n",
        "Compara el costo total de llamadas nocturnas (total night charge).\n",
        "\n",
        "¿Los clientes con mayor gasto en llamadas internacionales (total intl charge) tienen más probabilidades de desertar?"
      ],
      "metadata": {
        "id": "U7oTziiyG0Wb"
      }
    },
    {
      "cell_type": "code",
      "source": [
        "# Solución propuesta\n",
        "\n",
        "# Compara el costo total de llamadas diurnas (total day charge) entre clientes con y sin churn.\n",
        "\n",
        "# Costo total de llamadas diurnas sin importar el churn\n",
        "sum_total_day_charge = dataFrame['total_day_charge'].sum()\n",
        "print(f\"La sumatoria de total_day_charges es                                : {sum_total_day_charge:.2f}\")\n",
        "\n",
        "# Costo total de llamadas diurnas por clientes sin churn\n",
        "sum_total_day_charges_churn_0 = dataFrame[dataFrame['churn'] == 0]['total_day_charge'].sum()\n",
        "print(f\"La sumatoria de total_day_charges por clientes sin churn es         :  {sum_total_day_charges_churn_0:.2f}\")\n",
        "\n",
        "# Costo total de llamadas diurnas por clientes con churn\n",
        "sum_total_day_charges_churn_1 = dataFrame[dataFrame['churn'] == 1]['total_day_charge'].sum()\n",
        "print(f\"La sumatoria de total_day_charges por clientes con churn es         :  {sum_total_day_charges_churn_1:.2f}\")\n",
        "\n",
        "# Porcentaje de costo de llamadas diurnas por clientes con churn\n",
        "percentage_total_day_charges_churn_1 = (sum_total_day_charges_churn_1 / sum_total_day_charge) * 100\n",
        "print(f\"El porcentaje de costo en llamadas diurnas por clientes con churn es:     {percentage_total_day_charges_churn_1:.2f}%\")"
      ],
      "metadata": {
        "id": "YWGmcLdoIYwx",
        "colab": {
          "base_uri": "https://localhost:8080/"
        },
        "outputId": "a1cbb235-de45-400b-8fc7-cc1637bb4ab7"
      },
      "execution_count": null,
      "outputs": [
        {
          "output_type": "stream",
          "name": "stdout",
          "text": [
            "La sumatoria de total_day_charges es                                : 101864.17\n",
            "La sumatoria de total_day_charges por clientes sin churn es         :  84874.20\n",
            "La sumatoria de total_day_charges por clientes con churn es         :  16989.97\n",
            "El porcentaje de costo en llamadas diurnas por clientes con churn es:     16.68%\n"
          ]
        }
      ]
    },
    {
      "cell_type": "markdown",
      "source": [
        "El costo de las llamadas de los clientes que han desertado, solo aportan el $\\approx 16.68\\%$ del total, en el horario diurno."
      ],
      "metadata": {
        "id": "mkyNyy72T801"
      }
    },
    {
      "cell_type": "code",
      "source": [
        "# Solución propuesta\n",
        "\n",
        "# Compara el costo total de llamadas nocturnas (total night charge).\n",
        "\n",
        "# Costo total de llamadas nocturnas sin importar el churn\n",
        "sum_total_night_charge = dataFrame['total_night_charge'].sum()\n",
        "print(f\"La sumatoria de total_night_charges es                                : {sum_total_night_charge:.2f}\")\n",
        "\n",
        "# Costo total de llamadas nocturnas por clientes sin churn\n",
        "sum_total_night_charges_churn_0 = dataFrame[dataFrame['churn'] == 0]['total_night_charge'].sum()\n",
        "print(f\"La sumatoria de total_night_charges por clientes sin churn es         : {sum_total_night_charges_churn_0:.2f}\")\n",
        "\n",
        "# Costo total de llamadas nocturnas por clientes con churn\n",
        "sum_total_night_charges_churn_1 = dataFrame[dataFrame['churn'] == 1]['total_night_charge'].sum()\n",
        "print(f\"La sumatoria de total_night_charges por clientes con churn es         :  {sum_total_night_charges_churn_1:.2f}\")\n",
        "\n",
        "# Porcentaje de costo de llamadas nocturnas por clientes con churn\n",
        "percentage_night_charges_churn_1 = (sum_total_night_charges_churn_1 / sum_total_night_charge) * 100\n",
        "print(f\"El porcentaje de costo en llamadas nocturnas por clientes con churn es:    {percentage_night_charges_churn_1:.2f}%\")"
      ],
      "metadata": {
        "colab": {
          "base_uri": "https://localhost:8080/"
        },
        "id": "PXcBAw7rTyhn",
        "outputId": "e77cd04b-fab5-4eb5-e844-b7fb4b1f5e40"
      },
      "execution_count": null,
      "outputs": [
        {
          "output_type": "stream",
          "name": "stdout",
          "text": [
            "La sumatoria de total_night_charges es                                : 30128.07\n",
            "La sumatoria de total_night_charges por clientes sin churn es         : 25667.31\n",
            "La sumatoria de total_night_charges por clientes con churn es         :  4460.76\n",
            "El porcentaje de costo en llamadas nocturnas por clientes con churn es:    14.81%\n"
          ]
        }
      ]
    },
    {
      "cell_type": "markdown",
      "source": [
        "El costo de las llamadas de los clientes que han desertado, solo aportan el $≈14.81\\%$ del total, en el horario nocturno.\n",
        "\n",
        "\n"
      ],
      "metadata": {
        "id": "r74hZFz3T-EK"
      }
    },
    {
      "cell_type": "code",
      "source": [
        "# Solución propuesta\n",
        "\n",
        "# ¿Los clientes con mayor gasto en llamadas internacionales (total intl charge) tienen más probabilidades de desertar?\n",
        "\n",
        "# Se selecciona un subgrupo de clientes con llamadas internacionales superior o igual a 4.0 en total_intl_charge\n",
        "# contra quienes no tienen ese nivel de consumo\n",
        "\n",
        "# Cantidad de clientes con total_intl_charge >= 4.0\n",
        "more_charge_total_intl_charge = len(dataFrame[dataFrame['total_intl_charge'] >= 4.0])\n",
        "print(f\"La cantidad de clientes con mas gasto en llamadas internacionales es                                  :   {more_charge_total_intl_charge}\")\n",
        "\n",
        "# Cantidad de clientes con total_intl_charge >= 4.0 que desertaron\n",
        "more_charge_total_intl_charge_churn_1 = len(dataFrame[(dataFrame['churn'] == 1) & (dataFrame['total_intl_charge'] >= 4.0)])\n",
        "print(f\"La cantidad de clientes con mas gasto en llamadas internacionales que desertaron es                   :    {more_charge_total_intl_charge_churn_1}\")\n",
        "\n",
        "# Porcentaje de clientes con total_intl_charge >= 4.0 que desertaron\n",
        "percentage_more_charge_total_intl_charge_churn_1 = (more_charge_total_intl_charge_churn_1 / more_charge_total_intl_charge) * 100\n",
        "print(f\"Porcentaje de cantidad de clientes con mas gasto en llamadas internacionales que desertaron es        :    {percentage_more_charge_total_intl_charge_churn_1:.2f}%\")\n",
        "\n",
        "print()\n",
        "\n",
        "# Cantidad de clientes con total_intl_charge < 4.0\n",
        "less_charge_total_intl_charge = len(dataFrame[dataFrame['total_intl_charge'] < 4.0])\n",
        "print(f\"La cantidad de clientes con gasto menor de 4.0 en llamadas internacionales es                         :   {less_charge_total_intl_charge}\")\n",
        "\n",
        "# Cantidad de clientes con total_intl_charge < 4.0 que desertaron\n",
        "less_charge_total_intl_charge_churn_1 = len(dataFrame[(dataFrame['churn'] == 1) & (dataFrame['total_intl_charge'] < 4.0)])\n",
        "print(f\"La cantidad de clientes con gasto menor de 4.0 en llamadas internacionales que desertaron es          :    {less_charge_total_intl_charge_churn_1}\")\n",
        "\n",
        "# Procentaje de clientes con total_intl_charge < 4.0 que desertaron\n",
        "percentage_less_charge_total_intl_charge_churn_1 = (less_charge_total_intl_charge_churn_1 / less_charge_total_intl_charge) * 100\n",
        "print(f\"Porcentaje de cantidad de clientes con gasto menor a 4.0 en llamadas internacionales que desertaron es:     {percentage_less_charge_total_intl_charge_churn_1:.2f}%\")"
      ],
      "metadata": {
        "id": "pZTepAMxT4ZT",
        "colab": {
          "base_uri": "https://localhost:8080/"
        },
        "outputId": "8829eea5-2ef3-4510-e217-10ced0592ee3"
      },
      "execution_count": null,
      "outputs": [
        {
          "output_type": "stream",
          "name": "stdout",
          "text": [
            "La cantidad de clientes con mas gasto en llamadas internacionales es                                  :   152\n",
            "La cantidad de clientes con mas gasto en llamadas internacionales que desertaron es                   :    27\n",
            "Porcentaje de cantidad de clientes con mas gasto en llamadas internacionales que desertaron es        :    17.76%\n",
            "\n",
            "La cantidad de clientes con gasto menor de 4.0 en llamadas internacionales es                         :   3181\n",
            "La cantidad de clientes con gasto menor de 4.0 en llamadas internacionales que desertaron es          :    456\n",
            "Porcentaje de cantidad de clientes con gasto menor a 4.0 en llamadas internacionales que desertaron es:     14.34%\n"
          ]
        }
      ]
    },
    {
      "cell_type": "markdown",
      "source": [
        "A pesar de ser mayor el porcentaje de la cantidad de clientes con mas gasto en llamadas internacionales $17.76\\%$ es levemente mayor que el porcentaje de cantidad de clientes con gasto menor a $4.0$ ($14.34\\%$), donde apenas la diferencia es de $17.76\\%-14.34\\%\\approx 3.42\\%$, la diferencia realmente no es significativa, por lo tanto, inicialmente no sería un motivo para deserción el gasto en llamadas internacionales."
      ],
      "metadata": {
        "id": "_zMM-piVT-8F"
      }
    }
  ]
}